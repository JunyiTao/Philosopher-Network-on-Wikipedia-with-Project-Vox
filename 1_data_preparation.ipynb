{
 "cells": [
  {
   "cell_type": "code",
   "execution_count": null,
   "metadata": {},
   "outputs": [],
   "source": []
  },
  {
   "cell_type": "markdown",
   "metadata": {},
   "source": [
    "## 1/ Present Philosopher info on Wikipedia"
   ]
  },
  {
   "cell_type": "markdown",
   "metadata": {},
   "source": [
    "### 1. Get data"
   ]
  },
  {
   "cell_type": "code",
   "execution_count": null,
   "metadata": {},
   "outputs": [
    {
     "name": "stdout",
     "output_type": "stream",
     "text": [
      "1804\n"
     ]
    }
   ],
   "source": [
    "urls = ['https://en.wikipedia.org/wiki/List_of_philosophers_(A-C)', 'https://en.wikipedia.org/wiki/List_of_philosophers_(D-H)', 'https://en.wikipedia.org/wiki/List_of_philosophers_(I-Q)', 'https://en.wikipedia.org/wiki/List_of_philosophers_(R-Z)']\n",
    "\n",
    "wiki_philo_list = []\n",
    "\n",
    "for url in urls:\n",
    "    page = requests.get(url)\n",
    "    soup = BeautifulSoup(page.content, 'html.parser')\n",
    "\n",
    "    philosophers_list = []\n",
    "    # start, end = False, False\n",
    "\n",
    "    for i in soup.find_all('li'):\n",
    "        # print(i.text)\n",
    "        if i.text:\n",
    "            if i.text[-1] == \"]\" or i.text[-1] == \")\":\n",
    "                wiki_philo_list.append(i.text)\n",
    "\n",
    "print(len(wiki_philo_list))"
   ]
  },
  {
   "cell_type": "code",
   "execution_count": null,
   "metadata": {},
   "outputs": [
    {
     "name": "stdout",
     "output_type": "stream",
     "text": [
      "list: 1804\n",
      "set: 1798\n",
      "Samuel Johnson (1649–1703)[d]\n",
      "Samuel Johnson (1696–1772)[b]\n",
      "Samuel Johnson (1709–1784)[b][c][d]\n",
      "Mao Zedong (or Mao Tse-tung) (1893–1976)[a]\n",
      "Philo of Larissa (1st century BC)[d][e]\n",
      "Philo of Larissa (154 – 84 BC)[b]\n",
      "Vasily Rozanov (1856–1919)\n",
      "Claude Henri de Rouvroy, Comte de Saint-Simon (1760–1825)\n",
      "Vasily Rozanov (1856–1919)[4]\n",
      "Claude Henri de Rouvroy, Comte de Saint-Simon (1760–1825)[1][3][4]\n",
      "Mao Zedong (1893–1976)\n",
      "list: 1800\n",
      "set: 1800\n"
     ]
    }
   ],
   "source": [
    "from function import check_dupl_ent\n",
    "from function import handle_cornercase_1\n",
    "\n",
    "check_dupl_ent(wiki_philo_list)\n",
    "wiki_philo_checked_list = handle_cornercase_1(wiki_philo_list)\n",
    "check_dupl_ent(wiki_philo_checked_list)"
   ]
  },
  {
   "cell_type": "code",
   "execution_count": null,
   "metadata": {},
   "outputs": [],
   "source": [
    "from function import get_wiki_philo_ent_1\n",
    "wiki_philo_ent_dict = get_wiki_philo_ent_1(wiki_philo_checked_list)\n",
    "print(len(wiki_philo_ent_dict))\n",
    "pickle.dump( wiki_philo_ent_dict, open( \"wiki_philo_ent_dict.p\", \"wb\" ) )"
   ]
  },
  {
   "cell_type": "markdown",
   "metadata": {},
   "source": [
    "womne philosopher list"
   ]
  },
  {
   "cell_type": "code",
   "execution_count": null,
   "metadata": {},
   "outputs": [
    {
     "name": "stdout",
     "output_type": "stream",
     "text": [
      "261\n"
     ]
    }
   ],
   "source": [
    "url = \"https://en.wikipedia.org/wiki/List_of_women_philosophers\"\n",
    "page = requests.get(url)\n",
    "soup = BeautifulSoup(page.content, 'html.parser')\n",
    "\n",
    "start_ent = \"Lopamudra (born 1100 BCE)\"\n",
    "end_ent = \"Jan Zwicky (born 1955)\"\n",
    "start, end = False, False\n",
    "\n",
    "wiki_womenPhilo_ent_list = []\n",
    "for i in soup.find_all('li'):\n",
    "    if start_ent in i.text:\n",
    "        start = True\n",
    "    \n",
    "    if start and not end:\n",
    "        # print(i.text)\n",
    "        wiki_womenPhilo_ent_list.append(i.text)\n",
    "\n",
    "    if end_ent in i.text:\n",
    "        end = True\n",
    "\n",
    "print(len(wiki_womenPhilo_ent_list))\n"
   ]
  },
  {
   "cell_type": "code",
   "execution_count": null,
   "metadata": {},
   "outputs": [
    {
     "name": "stdout",
     "output_type": "stream",
     "text": [
      "261\n",
      "261\n"
     ]
    }
   ],
   "source": [
    "from function import handle_corner_cases_2\n",
    "from function import get_wiki_philo_ent_2\n",
    "\n",
    "wiki_womenPhilo_checked_ent_list = handle_corner_cases_2(wiki_womenPhilo_ent_list)\n",
    "print(len(wiki_womenPhilo_checked_ent_list))\n",
    "# wiki_womenPhilo_checked_ent_list\n",
    "wiki_womenPhilo_ent_dict = get_wiki_philo_ent_2(wiki_womenPhilo_checked_ent_list)\n",
    "# wiki_womenPhilo_ent_dict\n",
    "print(len(wiki_womenPhilo_ent_dict))\n",
    "\n",
    "pickle.dump( wiki_womenPhilo_ent_dict, open( \"/wiki_womenPhilo_ent_dict.p\", \"wb\" ) )\n",
    "# pickle.load()\n",
    "# pickle.dump( wiki_philo_ent_dict, open( \"wiki_philo_ent_dict.p\", \"wb\" ) )\n",
    "wiki_philo_ent_dict =  pickle.load( open(\"unsure_lists/wiki_philo_ent_dict.p\", \"rb\" ) )\n",
    "wiki_womenPhilo_ent_dict = pickle.load( open(\"unsure_lists/wiki_womenPhilo_ent_dict.p\", \"rb\" ) )"
   ]
  },
  {
   "cell_type": "markdown",
   "metadata": {},
   "source": [
    "Combine the two philo lists + add gender\n",
    "\n",
    "*Note*: add gender now because we want to check and clean the links"
   ]
  },
  {
   "cell_type": "code",
   "execution_count": null,
   "metadata": {},
   "outputs": [
    {
     "name": "stdout",
     "output_type": "stream",
     "text": [
      "True\n",
      "True\n"
     ]
    }
   ],
   "source": [
    "a = list(wiki_womenPhilo_ent_dict)\n",
    "b = list(wiki_philo_ent_dict)\n",
    "\n",
    "included_womenPhilo_list = list(set(a) & set(b))\n",
    "excluded_womenPhilo_list = [i for i in a if i not in b]\n",
    "menPhilo_list = [i for i in b if i not in included_womenPhilo_list]\n",
    "\n",
    "c1 = a + menPhilo_list\n",
    "c2 = b + excluded_womenPhilo_list\n",
    "print(len(c1) == len(c2))\n",
    "print([i for i in c2 if i not in c1] == [])\n",
    "\n",
    "full_wikiPhilo_list = c1\n",
    "\n",
    "\n",
    "pickle.dump(full_wikiPhilo_list, open( \"full_wikiPhilo_list.p\", \"wb\" ) )\n",
    "pickle.dump(excluded_womenPhilo_list, open( \"excluded_womenPhilo_list.p\", \"wb\" ) )"
   ]
  },
  {
   "cell_type": "code",
   "execution_count": null,
   "metadata": {},
   "outputs": [
    {
     "name": "stdout",
     "output_type": "stream",
     "text": [
      "women philosophers listed 261\n",
      "women philosophers included in the main list: 49\n",
      "philosophers listed in the main list: 1800\n"
     ]
    }
   ],
   "source": [
    "a = list(wiki_womenPhilo_ent_dict)\n",
    "b = list(wiki_philo_ent_dict)\n",
    "\n",
    "included_womenPhilo_list = list(set(a) & set(b))\n",
    "excluded_womenPhilo_list = [i for i in a if i not in b]\n",
    "menPhilo_list = [i for i in b if i not in included_womenPhilo_list]\n",
    "\n",
    "print(\"women philosophers listed\",len(a))\n",
    "print(\"women philosophers included in the main list:\",len(included_womenPhilo_list))\n",
    "print(\"philosophers listed in the main list:\",len(b))"
   ]
  },
  {
   "cell_type": "markdown",
   "metadata": {},
   "source": [
    "*Note: integrate information associated with unchecked entities here*"
   ]
  },
  {
   "cell_type": "code",
   "execution_count": null,
   "metadata": {},
   "outputs": [],
   "source": [
    "wiki_philo_group_list = []\n",
    "\n",
    "for i in full_wikiPhilo_list:\n",
    "    info_dict = {}\n",
    "    info_dict['entity'] = i\n",
    "    if i in included_womenPhilo_list:\n",
    "        info_dict['gender_listed'] = 0\n",
    "        info_dict['inclusion'] = \"main: included; women: included\"\n",
    "    elif i in excluded_womenPhilo_list:\n",
    "        info_dict['gender_listed'] = 0\n",
    "        info_dict['inclusion'] = \"main: excluded; women: included\"\n",
    "    elif i in menPhilo_list:\n",
    "        info_dict['gender_listed'] = 1\n",
    "        info_dict['inclusion'] = \"main: included\"\n",
    "    wiki_philo_group_list.append(info_dict)\n",
    "\n",
    "wiki_philo_group_list\n",
    "pickle.dump(wiki_philo_group_list, open( \"wiki_philo_group_list.p\", \"wb\" ) )"
   ]
  },
  {
   "cell_type": "code",
   "execution_count": null,
   "metadata": {},
   "outputs": [
    {
     "name": "stdout",
     "output_type": "stream",
     "text": [
      "2012 49\n",
      "2061\n",
      "1679\n"
     ]
    },
    {
     "data": {
      "text/plain": [
       "2012"
      ]
     },
     "metadata": {},
     "output_type": "display_data"
    }
   ],
   "source": [
    "# Information listed together with the entity lists. birthDate, extra info, etc.\n",
    "\n",
    "dl1 = wiki_womenPhilo_ent_dict.items()\n",
    "dl2 = wiki_philo_ent_dict.items()\n",
    "\n",
    "k1 = wiki_womenPhilo_ent_dict.keys()\n",
    "k2 = wiki_philo_ent_dict.keys()\n",
    "\n",
    "ent_list = set( list(k1) + list(k2))\n",
    "ovrl_list = list(set(list(k1)) & set(list(k2)))\n",
    "print(len(ent_list), len(ovrl_list))\n",
    "\n",
    "info_list = list(dl1) + list(dl2)\n",
    "print(len(info_list))\n",
    "\n",
    "# do the included women have the same info in two lists?\n",
    "\n",
    "t1 = [i['time'] for i in wiki_womenPhilo_ent_dict.values()]\n",
    "t2 = [i['time'] for i in wiki_philo_ent_dict.values()]\n",
    "\n",
    "time_list = set( list(t1) + list(t2))\n",
    "print(len(time_list))\n",
    "\n",
    "# for item in info_list:\n",
    "#     if item[0] in ovrl_list:\n",
    "#         print(item)\n",
    "\n",
    "# update listed birthYear\n",
    "listed_info_dict = {}\n",
    "for ent in ent_list:\n",
    "    for i in info_list:\n",
    "        if i[0] == ent:\n",
    "            listed_info_dict[ent] = i[1]\n",
    "\n",
    "len(listed_info_dict)"
   ]
  },
  {
   "cell_type": "code",
   "execution_count": null,
   "metadata": {},
   "outputs": [],
   "source": [
    "# update the information\n",
    "wiki_philo_group_list = pickle.load( open( \"wiki_philo_group_list.p\", \"rb\" ) )\n",
    "\n",
    "\n",
    "for item in wiki_philo_group_list:\n",
    "    item[\"listed_info\"] = listed_info_dict[item['entity']]\n",
    "    # print(listed_info_dict[item['entity']])\n",
    "    "
   ]
  },
  {
   "cell_type": "code",
   "execution_count": null,
   "metadata": {},
   "outputs": [],
   "source": [
    "wiki_philo_group_list\n",
    "pickle.dump(wiki_philo_group_list, open( \"wiki_philo_info_list.p\", \"wb\" ) )"
   ]
  },
  {
   "cell_type": "markdown",
   "metadata": {},
   "source": [
    "Check if wiki pages are accessible\n",
    "\n",
    "wikiPage = \"https://en.wikipedia.org/wiki/\"\n",
    "\n",
    "dbpage = \"https://dbpedia.org/page/\"\n",
    "\n",
    "\n",
    "**Reasons for page not existing**:\n",
    "- language\n",
    "    - no page in en.wiki\n",
    "    - different notations 拼音\n",
    "- label-name mismatch\n",
    "    - middle name \n",
    "    - suffix (xxx of xxx)\n",
    "    - multiple persons share the same name so there is a differentiater (xxx)\n",
    "\n",
    "Pattern:\n",
    "- if dbUrl and not wikiUrl => label is at least refered to by some pages\n",
    "- if not dbUrl => label doesn't exist \n"
   ]
  },
  {
   "cell_type": "code",
   "execution_count": null,
   "metadata": {},
   "outputs": [
    {
     "name": "stdout",
     "output_type": "stream",
     "text": [
      "[]\n"
     ]
    }
   ],
   "source": [
    "from function import url_checker\n",
    "from function import check_wiki_url\n",
    "\n",
    "ent_list = [d['entity'] for d in wiki_philo_group_list]\n",
    "\n",
    "checked_wikiUrl_list, problem_wikiUrl_list = check_wiki_url(ent_list)\n",
    "checked_dbUrl_list, problem_dbUrl_list = check_db_url(ent_list)\n",
    "\n",
    "\n",
    "problem_wiki_ent_list = [i.replace(\"https://en.wikipedia.org/wiki/\",\"\").replace(\"_\",\" \") for i in problem_wikiUrl_list]\n",
    "problem_db_ent_list = [i.replace(\"https://dbpedia.org/page/\",\"\").replace(\"_\",\" \") for i in problem_dbUrl_list]\n",
    "\n",
    "# check\n",
    "print([i for i in problem_wiki_ent_list if i not in ent_list])"
   ]
  },
  {
   "cell_type": "markdown",
   "metadata": {},
   "source": [
    "**For dbpedia**:\n",
    "\n",
    "    - whenever there is an en.wiki page, there's a dbpage\n",
    "    - dbpage means that this entity is at least refered by some pages\n",
    "\n",
    "Exception: https://dbpedia.org/page/Dickinson_S._Miller\n",
    "while https://en.wikipedia.org/wiki/Dickinson_Miller =automatically=> https://en.wikipedia.org/wiki/Dickinson_S._Miller\n",
    "\n",
    "=> onnly correct wiki list\n",
    "\n"
   ]
  },
  {
   "cell_type": "markdown",
   "metadata": {},
   "source": [
    "Also, the label in dbpedia and wikipedia should be the same"
   ]
  },
  {
   "cell_type": "code",
   "execution_count": null,
   "metadata": {},
   "outputs": [],
   "source": [
    "# page = requests.get(item[\"wiki_url\"])\n",
    "        # soup = BeautifulSoup(page.content, \"html.parser\")\n",
    "        # results = soup.find(id=\"firstHeading\")\n",
    "        # entity_corrected = results.text\n",
    "        \n",
    "        # if item[\"entity\"] != entity_corrected:\n",
    "        #     print(item[\"entity\"], \"|\",item[\"accessible_label\"],\"=>\",entity_corrected)\n",
    "        # put all the entities in the dict\n",
    "        # ent_dupl_dict[item[\"entity\"]] = entity_corrected"
   ]
  },
  {
   "cell_type": "code",
   "execution_count": null,
   "metadata": {},
   "outputs": [
    {
     "name": "stdout",
     "output_type": "stream",
     "text": [
      "not in wiki: 66 \n",
      "not in db: 20\n",
      "in db not in wiki: 46 \n",
      "in wiki not in db: 0\n"
     ]
    }
   ],
   "source": [
    "# examine the relationships between dbpedia and wikipedia\n",
    "d1 = [i for i in problem_wiki_ent_list if i not in problem_db_ent_list]\n",
    "d2 = [i for i in problem_db_ent_list if i not in problem_wiki_ent_list]\n",
    "print(\n",
    "    \"not in wiki:\",len(problem_wiki_ent_list), \n",
    "    \"\\nnot in db:\",len(problem_db_ent_list)\n",
    "    )\n",
    "print(\n",
    "    \"in db not in wiki:\",len(d1), \n",
    "    \"\\nin wiki not in db:\",len(d2)\n",
    "    )\n"
   ]
  },
  {
   "cell_type": "markdown",
   "metadata": {},
   "source": [
    "Handle wrong urls, by 06/03/2022\n",
    "\n",
    "*Note:* information (\"it is wrong!”) is also very valueable "
   ]
  },
  {
   "cell_type": "code",
   "execution_count": null,
   "metadata": {},
   "outputs": [],
   "source": [
    "# read csv, import corrected labels, update the dict\n",
    "\n",
    "df = pd.read_csv(\"correct_wiki_url.csv\")\n",
    "wiki_philo_info_list = pickle.load( open( \"wiki_philo_info_list.p\", \"rb\" ) )\n",
    "\n",
    "wiki_philo_corrected_list = []\n",
    "\n",
    "for item in wiki_philo_info_list:\n",
    "    ent = str(item['entity'])\n",
    "    item['refered_name'] = [ent] # the name in the list, which may be the wrong label\n",
    "\n",
    "    wiki_url = \"https://en.wikipedia.org/wiki/\"+ent.replace(\" \",\"_\")\n",
    "    db_url = \"https://dbpedia.org/page/\" + ent.replace(\" \",\"_\")\n",
    "    item['wiki_url'] = wiki_url\n",
    "    item['db_url'] = db_url\n",
    "\n",
    "    wiki_philo_corrected_list.append(item)\n",
    "\n",
    "# check\n",
    "# for item in wiki_philo_corrected_list:\n",
    "#     if item['refered_name'] != item['entity']:\n",
    "#         print(item)    "
   ]
  },
  {
   "cell_type": "code",
   "execution_count": null,
   "metadata": {},
   "outputs": [],
   "source": [
    "# create entity lists\n",
    "for item in wiki_philo_corrected_list:\n",
    "    ent = str(item['entity'])\n",
    "    \n",
    "    if ent in df['wrong_label'].tolist(): # it is wrong?\n",
    "        idx = df['wrong_label'].tolist().index(ent)\n",
    "        correct_ent = df['correct_label'].iloc[idx]\n",
    "        if type(correct_ent) == str: # have it been corrected?\n",
    "            item['entity'] = correct_ent\n",
    "            wiki_url = \"https://en.wikipedia.org/wiki/\"+correct_ent.replace(\" \",\"_\")\n",
    "            db_url = \"https://dbpedia.org/page/\" + correct_ent.replace(\" \",\"_\")\n",
    "            item['wiki_url'] = wiki_url\n",
    "            item['db_url'] = db_url\n",
    "            \n",
    "        elif type(correct_ent) == float:\n",
    "            item['entity'] = \"\" # no wiki page, cannot be corrected\n",
    "            item['wiki_url'] = \"\"\n",
    "            item['db_url'] = \"\"\n",
    "\n",
    "# check\n",
    "COUNT_1, COUNT_2 = 0, 0\n",
    "\n",
    "corrected_ent_list = []\n",
    "for i in df['correct_label']:\n",
    "    if type(i) == str:\n",
    "        corrected_ent_list.append(i)\n",
    "\n",
    "for item in wiki_philo_corrected_list:\n",
    "    \n",
    "    if item['entity'] != item['refered_name']:\n",
    "        # print(item['entity'], item['refered_name'])\n",
    "        COUNT_1 = COUNT_1 +1\n",
    "    if item['entity'] == \"\":\n",
    "        COUNT_2 = COUNT_2 +1\n",
    "    \n",
    "# print(COUNT_1, COUNT_2)\n",
    "test_1 = (COUNT_1 == len(problem_wikiUrl_list))\n",
    "test_2 = (COUNT_2 == len(df) -len(corrected_ent_list))\n",
    "if test_1 and test_2:\n",
    "    pickle.dump(wiki_philo_corrected_list, open( \"wiki_philo_corrected_list.p\", \"wb\" ) )\n",
    "else:\n",
    "    print(\"Error!\")"
   ]
  },
  {
   "cell_type": "markdown",
   "metadata": {},
   "source": [
    "Get the data (information of philosopher in DBpedia page)"
   ]
  },
  {
   "cell_type": "code",
   "execution_count": null,
   "metadata": {},
   "outputs": [],
   "source": [
    "from function import get_db_philosopher\n",
    "\n",
    "for item in wiki_philo_corrected_list:\n",
    "    # print(get_db_philosopher( item['entity']))\n",
    "    item['dbpedia_info'] = get_db_philosopher( item['entity'])\n"
   ]
  },
  {
   "cell_type": "code",
   "execution_count": null,
   "metadata": {},
   "outputs": [],
   "source": [
    "wiki_philo_corrected_list\n",
    "pickle.dump(wiki_philo_corrected_list, open( \"info_lists/db_philo_info_\"+time.strftime(\"%Y%m%d\")+\".p\", \"wb\" ) )\n",
    "db_philo_info_list = pickle.load( open( \"info_lists/db_philo_info_\"+time.strftime(\"%Y%m%d\")+\".p\", \"rb\" ) )\n",
    "db_philo_info_list\n",
    "db_philo_info_list = pickle.load( open( \"info_lists/db_philo_info_list.p\", \"rb\" ) )\n"
   ]
  },
  {
   "cell_type": "code",
   "execution_count": null,
   "metadata": {},
   "outputs": [
    {
     "name": "stdout",
     "output_type": "stream",
     "text": [
      "['1034793', '2157753', '38375', '2245936', '14125745', '23758', '177557', '3783415', '43583', '2016044']\n",
      "Isaac ben Judah Abravanel => Isaac Abarbanel\n",
      "Catherine Trotter Cockburn => Catharine Trotter Cockburn\n",
      "Hypatia of Alexandria => Hypatia\n",
      "Kuo Hsiang => Guo Xiang\n",
      "Philo of Megara => Philo the Dialectician\n",
      "Friedrich Schelling => Friedrich Wilhelm Joseph Schelling\n",
      "L. Susan Stebbing => Susan Stebbing\n",
      "Teresa of Avila => Teresa of Ávila\n",
      "Mary Warnock => Mary Warnock, Baroness Warnock\n",
      "{'Hypatia': 'Hypatia', 'Teresa of Ávila': 'Teresa of Ávila', 'Catharine Trotter Cockburn': 'Catharine Trotter Cockburn', 'Susan Stebbing': 'Susan Stebbing', 'Mary Warnock, Baroness Warnock': 'Mary Warnock, Baroness Warnock', 'Isaac ben Judah Abravanel': 'Isaac Abarbanel', 'Isaac Abarbanel': 'Isaac Abarbanel', 'Catherine Trotter Cockburn': 'Catharine Trotter Cockburn', 'Guo Xiang': 'Guo Xiang', 'Hypatia of Alexandria': 'Hypatia', 'Friedrich Wilhelm Joseph Schelling': 'Friedrich Wilhelm Joseph Schelling', 'Kuo Hsiang': 'Guo Xiang', 'Philo the Dialectician': 'Philo the Dialectician', 'Philo of Megara': 'Philo the Dialectician', 'Pseudo-Dionysius the Areopagite': 'Pseudo-Dionysius the Areopagite', 'Friedrich Schelling': 'Friedrich Wilhelm Joseph Schelling', 'L. Susan Stebbing': 'Susan Stebbing', 'Teresa of Avila': 'Teresa of Ávila', 'Mary Warnock': 'Mary Warnock, Baroness Warnock'}\n"
     ]
    }
   ],
   "source": [
    "# they are included because their pages can be accessed via multiple labels\n",
    "# we access each link and get the label directly from the page\n",
    "\n",
    "# print the wrong entities\n",
    "data = copy.deepcopy(db_philo_info_list)\n",
    "\n",
    "l = [item['wikiPageID'] for item in data]\n",
    "\n",
    "visited = set()\n",
    "dup = [x for x in l if x in visited or (visited.add(x) or False)]\n",
    "# print(dup)\n",
    "dup = [i for i in dup if i]\n",
    "print(dup)\n",
    "\n",
    "ent_correct_dict = {} # key: entity (wrong label), value: correct label\n",
    "for item in data:\n",
    "    if item['wikiPageID'] in dup:\n",
    "        # print(item[\"entity\"], item[\"wiki_url\"],item[\"dbpedia_info\"][\"wikiPageID\"])\n",
    "        page = requests.get(item[\"wiki_url\"])\n",
    "        soup = BeautifulSoup(page.content, \"html.parser\")\n",
    "        results = soup.find(id=\"firstHeading\")\n",
    "        entity_corrected = results.text\n",
    "        \n",
    "        if item[\"entity\"] != entity_corrected:\n",
    "            print(item[\"entity\"], \"=>\",entity_corrected)\n",
    "        ent_correct_dict[item[\"entity\"]] = entity_corrected\n",
    "\n",
    "# or, if we don't want a check, just delete all of them\n",
    "print(ent_correct_dict)"
   ]
  },
  {
   "cell_type": "code",
   "execution_count": null,
   "metadata": {},
   "outputs": [
    {
     "name": "stdout",
     "output_type": "stream",
     "text": [
      "{'Hypatia': ['Hypatia', 'Hypatia of Alexandria'], 'Teresa of Ávila': ['Teresa of Ávila', 'Teresa of Avila'], 'Catharine Trotter Cockburn': ['Catharine Trotter Cockburn', 'Catherine Trotter Cockburn'], 'Susan Stebbing': ['Susan Stebbing', 'L. Susan Stebbing'], 'Mary Warnock, Baroness Warnock': ['Mary Warnock, Baroness Warnock', 'Mary Warnock'], 'Isaac Abarbanel': ['Isaac ben Judah Abravanel', 'Isaac Abarbanel'], 'Guo Xiang': ['Guo Xiang', 'Kuo Hsiang'], 'Friedrich Wilhelm Joseph Schelling': ['Friedrich Wilhelm Joseph Schelling', 'Friedrich Schelling'], 'Philo the Dialectician': ['Philo the Dialectician', 'Philo of Megara'], 'Pseudo-Dionysius the Areopagite': ['Pseudo-Dionysius the Areopagite']}\n"
     ]
    }
   ],
   "source": [
    "ent_correct_inv_dict  = {}  # correct entity: wrong/correct labels\n",
    "\n",
    "for key, value in ent_correct_dict.items():\n",
    "    if value not in ent_correct_inv_dict:\n",
    "        ent_correct_inv_dict[value] = [key]\n",
    "    else:\n",
    "        ent_correct_inv_dict[value].append(key)\n",
    "\n",
    "\n",
    "print(ent_correct_inv_dict )"
   ]
  },
  {
   "cell_type": "code",
   "execution_count": null,
   "metadata": {},
   "outputs": [
    {
     "name": "stdout",
     "output_type": "stream",
     "text": [
      "Isaac ben Judah Abravanel => Isaac Abarbanel\n",
      "{'entity': 'Isaac Abarbanel', 'gender_listed': 1, 'inclusion': 'main: included', 'refered_name': 'Isaac ben Judah Abravanel', 'wiki_url': 'https://en.wikipedia.org/wiki/Isaac_Abarbanel', 'db_url': 'https://dbpedia.org/page/Isaac_Abarbanel', 'dbpedia_info': {'label': 'Isaac Abarbanel', 'wikiPageID': '1034793', 'db_influence_record': {'influences': [], 'influencedBy': [], 'isInfluencesOf': [], 'isInfluencedByOf': ['Leo_Strauss']}, 'abstract': 'Isaac ben Judah Abarbanel (Hebrew: יצחק בן יהודה אברבנאל;\\u200e 1437–1508), commonly referred to as Abarbanel (אַבַּרבְּנְאֵל\\u200e), also spelled Abravanel, Avravanel or Abrabanel, was a Portuguese Jewish statesman, philosopher, Bible commentator, and financier. (en)', 'birthYear': '1437-01-01', 'deathYear': '', 'birthPlace': 'Lisbon,Kingdom_of_Portugal', 'deathPlace': 'Venice,Republic_of_Venice'}, 'listed_info': {'sameAs': '', 'time': '1437–1508'}, 'accessible_label': ['Isaac ben Judah Abravanel', 'Isaac Abarbanel']}\n",
      "Catherine Trotter Cockburn => Catharine Trotter Cockburn\n",
      "{'entity': 'Catharine Trotter Cockburn', 'gender_listed': 1, 'inclusion': 'main: included', 'refered_name': 'Catherine Trotter Cockburn', 'wiki_url': 'https://en.wikipedia.org/wiki/Catharine_Trotter_Cockburn', 'db_url': 'https://dbpedia.org/page/Catharine_Trotter_Cockburn', 'dbpedia_info': {'label': 'Catharine Trotter Cockburn', 'wikiPageID': '2157753', 'db_influence_record': {'influences': [], 'influencedBy': [], 'isInfluencesOf': [], 'isInfluencedByOf': []}, 'abstract': 'Catharine Trotter Cockburn (16 August 1679 – 11 May 1749) was an English novelist, dramatist, and philosopher. She wrote on moral philosophy, theological tracts, and had a voluminous correspondence. Trotter\\'s work addresses a range of issues including necessity, the infinitude of space, and the substance, but she focuses on moral issues. She thought that moral principles are not innate, but discoverable by each individual through the use of the faculty of reason endowed by God. In 1702, she published her first major philosophical work, A Defence of Mr. Lock\\'s [sic.] An Essay Concerning Human Understanding. John Locke was so pleased with this defence that he made gifts of money and books to his young apologist acting through Elizabeth Burnet who had first made Locke aware of Trotter\\'s \"Defence\". Her work attracted the attention of William Warburton, who prefaced her last philosophical work. She also had a request from the biographer Thomas Birch to aid him in compiling a collection of her works. She agreed to the project but died before the work could be printed. Birch posthumously published a two-volume collection entitled The Works of Mrs. Catharine Cockburn, Theological, Moral, Dramatic, and Poetical in 1751. It is largely through this text that readers and history have come to know her. (en)', 'birthYear': '', 'deathYear': '', 'birthPlace': 'London', 'deathPlace': 'Longhorsley'}, 'listed_info': {'sameAs': '', 'time': '1679–1749'}, 'accessible_label': ['Catharine Trotter Cockburn', 'Catherine Trotter Cockburn']}\n",
      "Hypatia of Alexandria => Hypatia\n",
      "{'entity': 'Hypatia', 'gender_listed': 1, 'inclusion': 'main: included', 'refered_name': 'Hypatia of Alexandria', 'wiki_url': 'https://en.wikipedia.org/wiki/Hypatia', 'db_url': 'https://dbpedia.org/page/Hypatia', 'dbpedia_info': {'label': 'Hypatia', 'wikiPageID': '38375', 'db_influence_record': {'influences': ['Damascius', 'Synesius'], 'influencedBy': ['Aristotle', 'Plato', 'Plotinus', 'Theon_of_Alexandria'], 'isInfluencesOf': ['Ammonius_Saccas', 'Plotinus'], 'isInfluencedByOf': []}, 'abstract': 'Hypatia (born c. 350–370; died 415 AD) was a Greek Neoplatonist philosopher, astronomer, and mathematician, who lived in Alexandria, Egypt, then part of the Eastern Roman Empire. She was a prominent thinker of the Neoplatonic school in Alexandria where she taught philosophy and astronomy. Although preceded by Pandrosion, another Alexandrine female mathematician, she is the first female mathematician whose life is reasonably well recorded. Hypatia was renowned in her own lifetime as a great teacher and a wise counselor. She wrote a commentary on Diophantus\\'s thirteen-volume Arithmetica, which may survive in part, having been interpolated into Diophantus\\'s original text, and another commentary on Apollonius of Perga\\'s treatise on conic sections, which has not survived. Many modern scholars also believe that Hypatia may have edited the surviving text of Ptolemy\\'s Almagest, based on the title of her father Theon\\'s commentary on Book III of the Almagest. Hypatia constructed astrolabes and hydrometers, but did not invent either of these, which were both in use long before she was born. Although she herself was a pagan, she was tolerant towards Christians and taught many Christian students, including Synesius, the future bishop of Ptolemais. Ancient sources record that Hypatia was widely beloved by pagans and Christians alike and that she established great influence with the political elite in Alexandria. Towards the end of her life, Hypatia advised Orestes, the Roman prefect of Alexandria, who was in the midst of a political feud with Cyril, the bishop of Alexandria. Rumors spread accusing her of preventing Orestes from reconciling with Cyril and, in March 415 AD, she was murdered by a mob of Christians led by a lector named Peter. Hypatia\\'s murder shocked the empire and transformed her into a \"martyr for philosophy\", leading future Neoplatonists such as Damascius to become increasingly fervent in their opposition to Christianity. During the Middle Ages, Hypatia was co-opted as a symbol of Christian virtue and scholars believe she was part of the basis for the legend of Saint Catherine of Alexandria. During the Age of Enlightenment, she became a symbol of opposition to Catholicism. In the nineteenth century, European literature, especially Charles Kingsley\\'s 1853 novel Hypatia, romanticized her as \"the last of the Hellenes\". In the twentieth century, Hypatia became seen as an icon for women\\'s rights and a precursor to the feminist movement. Since the late twentieth century, some portrayals have associated Hypatia\\'s death with the destruction of the Library of Alexandria, despite the historical fact that the library no longer existed during Hypatia\\'s lifetime. (en)', 'birthYear': '0350-01-01', 'deathYear': '0415-01-01', 'birthPlace': 'Roman_Egypt,Alexandria,Byzantine_Empire', 'deathPlace': 'Roman_Egypt,Alexandria,Byzantine_Empire'}, 'listed_info': {'sameAs': '', 'time': '370–415'}, 'accessible_label': ['Hypatia', 'Hypatia of Alexandria']}\n",
      "Kuo Hsiang => Guo Xiang\n",
      "{'entity': 'Guo Xiang', 'gender_listed': 1, 'inclusion': 'main: included', 'refered_name': 'Kuo Hsiang', 'wiki_url': 'https://en.wikipedia.org/wiki/Guo_Xiang', 'db_url': 'https://dbpedia.org/page/Guo_Xiang', 'dbpedia_info': {'label': 'Guo Xiang', 'wikiPageID': '2245936', 'db_influence_record': {'influences': [], 'influencedBy': [], 'isInfluencesOf': [], 'isInfluencedByOf': ['Mou_Zongsan', 'Xu_Fuguan']}, 'abstract': 'Guo Xiang (Chinese: 郭象; pinyin: Guō Xiàng; Wade–Giles: Kuo Hsiang; born 252 AD – died 312 AD) is credited with the first and most important revision of the text known as the Zhuangzi which, along with the Tao Te Ching, forms the textual and philosophical basis of the Taoist school of thought. He was also a scholar of xuanxue. (en)', 'birthYear': '', 'deathYear': '', 'birthPlace': '', 'deathPlace': ''}, 'listed_info': {'sameAs': ['Guoxiang'], 'time': 'died c. 312'}, 'accessible_label': ['Guo Xiang', 'Kuo Hsiang']}\n",
      "Philo of Megara => Philo the Dialectician\n",
      "{'entity': 'Philo the Dialectician', 'gender_listed': 1, 'inclusion': 'main: included', 'refered_name': 'Philo of Megara', 'wiki_url': 'https://en.wikipedia.org/wiki/Philo_the_Dialectician', 'db_url': 'https://dbpedia.org/page/Philo_the_Dialectician', 'dbpedia_info': {'label': 'Philo the Dialectician', 'wikiPageID': '14125745', 'db_influence_record': {'influences': [], 'influencedBy': [], 'isInfluencesOf': [], 'isInfluencedByOf': ['Zeno_of_Citium', 'Chrysippus']}, 'abstract': 'Philo the Dialectician (Greek: Φίλων; fl. 300 BC) was a Greek philosopher of the Megarian (Dialectical) school. He is sometimes called Philo of Megara although the city of his birth is unknown. He is most famous for the debate he had with his teacher Diodorus Cronus concerning the idea of the possible and the criteria of the truth of conditional statements. (en)', 'birthYear': '', 'deathYear': '', 'birthPlace': '', 'deathPlace': ''}, 'listed_info': {'sameAs': '', 'time': '300\\xa0BC c.'}, 'accessible_label': ['Philo the Dialectician', 'Philo of Megara']}\n",
      "Friedrich Schelling => Friedrich Wilhelm Joseph Schelling\n",
      "{'entity': 'Friedrich Wilhelm Joseph Schelling', 'gender_listed': 1, 'inclusion': 'main: included', 'refered_name': 'Friedrich Schelling', 'wiki_url': 'https://en.wikipedia.org/wiki/Friedrich_Wilhelm_Joseph_Schelling', 'db_url': 'https://dbpedia.org/page/Friedrich_Wilhelm_Joseph_Schelling', 'dbpedia_info': {'label': 'Friedrich Wilhelm Joseph Schelling', 'wikiPageID': '177557', 'db_influence_record': {'influences': ['Emil_Fackenheim', 'Eric_Voegelin', 'Alexander_von_Humboldt', 'Alexandru_Hâjdeu', 'Samuel_Taylor_Coleridge', 'Isaac_Bernays', 'Eduard_von_Hartmann', 'Hans-Georg_Gadamer', 'Luigi_Pareyson', 'Karl_Wilhelm_Ferdinand_Solger', 'Georg_Wilhelm_Friedrich_Hegel', 'Iain_Hamilton_Grant', 'Carl_Gustav_Carus', 'Carl_Jung', 'Cornelius_Van_Til', 'Johann_Wolfgang_von_Goethe', 'Josiah_Royce', 'Georg_Anton_Friedrich_Ast', 'Charles_Sanders_Peirce', 'Charles_Secrétan', 'Félix_Ravaisson-Mollien', 'Jürgen_Habermas', 'Christian_Gottfried_Daniel_Nees_von_Esenbeck', 'Christian_Hermann_Weisse', 'Sigmund_Freud', 'Martin_Heidegger', 'Slavoj_Žižek', 'Victor_Cousin', 'Vladimir_Solovyov_(philosopher)', 'Gilles_Deleuze', 'Immanuel_Hermann_Fichte', 'Vicente_Ferreira_da_Silva', 'Karl_Christian_Friedrich_Krause', 'Ken_Wilber', 'Paul_Tillich', 'Søren_Kierkegaard', 'List_of_Russian_philosophers'], 'influencedBy': ['Plato', 'Plotinus', 'Aristotle', 'Carl_Friedrich_Kielmeyer', 'Johann_Gottfried_Herder', 'Johann_Gottlieb_Fichte', 'Johann_Wolfgang_von_Goethe', 'Friedrich_Heinrich_Jacobi', 'Friedrich_Hölderlin', 'Baruch_Spinoza', 'Jakob_Böhme', 'Gottfried_Wilhelm_Leibniz', 'Immanuel_Kant'], 'isInfluencesOf': ['Johann_Georg_Hamann', 'Johann_Gottlieb_Fichte', 'Friedrich_Heinrich_Jacobi', 'Jakob_Böhme'], 'isInfluencedByOf': ['Ernst_Cassirer', 'Sean_McGrath_(philosopher)', 'Eduard_von_Hartmann', 'Hans-Georg_Gadamer', 'Henrik_Steffens', 'Georg_Wilhelm_Friedrich_Hegel', 'Hermann_Lotze', 'Mário_Ferreira_dos_Santos', 'Nikolai_Stankevich', 'Iain_Hamilton_Grant', 'Cornelius_Van_Til', 'Josiah_Royce', 'Franz_Rosenzweig', 'Friedrich_Schleiermacher', 'Friedrich_Tiedemann', 'Félix_Ravaisson-Mollien', 'Gabriel_Marcel', 'Jürgen_Habermas', 'Józef_Kalasanty_Szaniawski', 'Christian_Hermann_Weisse', 'Richard_Tarnas', 'Slavoj_Žižek', 'Victor_Cousin', 'Vladimir_Jankélévitch', 'Vladimir_Solovyov_(philosopher)', 'Immanuel_Hermann_Fichte', 'Søren_Kierkegaard']}, 'abstract': \"Friedrich Wilhelm Joseph Schelling (German: [ˈfʁiːdʁɪç ˈvɪlhɛlm ˈjoːzɛf ˈʃɛlɪŋ]; 27 January 1775 – 20 August 1854), later (after 1812) von Schelling, was a German philosopher. Standard histories of philosophy make him the midpoint in the development of German idealism, situating him between Johann Gottlieb Fichte, his mentor in his early years, and Georg Wilhelm Friedrich Hegel, his one-time university roommate, early friend, and later rival. Interpreting Schelling's philosophy is regarded as difficult because of its evolving nature. Schelling's thought in the main has been neglected, especially in the English-speaking world. An important factor in this was the ascendancy of Hegel, whose mature works portray Schelling as a mere footnote in the development of idealism. Schelling's Naturphilosophie also has been attacked by scientists for its tendency to analogize and lack of empirical orientation. However, some later philosophers have shown interest in re-examining Schelling's body of work. (en)\", 'birthYear': '1775-01-01', 'deathYear': '1854-01-01', 'birthPlace': 'Duchy_of_Württemberg,Leonberg,Holy_Roman_Empire', 'deathPlace': 'Bad_Ragaz,Switzerland'}, 'listed_info': {'sameAs': '', 'time': '1775–1852'}, 'accessible_label': ['Friedrich Wilhelm Joseph Schelling', 'Friedrich Schelling']}\n",
      "L. Susan Stebbing => Susan Stebbing\n",
      "{'entity': 'Susan Stebbing', 'gender_listed': 1, 'inclusion': 'main: included', 'refered_name': 'L. Susan Stebbing', 'wiki_url': 'https://en.wikipedia.org/wiki/Susan_Stebbing', 'db_url': 'https://dbpedia.org/page/Susan_Stebbing', 'dbpedia_info': {'label': 'Susan Stebbing', 'wikiPageID': '3783415', 'db_influence_record': {'influences': ['Max_Black'], 'influencedBy': ['Moritz_Schlick', 'William_Ernest_Johnson', 'Rudolf_Carnap', 'G._E._Moore'], 'isInfluencesOf': ['Moritz_Schlick'], 'isInfluencedByOf': ['Max_Black']}, 'abstract': 'Lizzie Susan Stebbing (2 December 1885 – 11 September 1943) was a British philosopher. She belonged to the 1930s generation of analytic philosophy, and was a founder in 1933 of the journal Analysis. and was the first woman to hold a philosophy chair in the United Kingdom, as well as the first female President of Humanists UK. (en)', 'birthYear': '1885-01-01', 'deathYear': '1943-01-01', 'birthPlace': 'United_Kingdom_of_Great_Britain_and_Ireland,North_Finchley,Middlesex', 'deathPlace': 'Northwood,_London'}, 'listed_info': {'sameAs': '', 'time': '1885–1943'}, 'accessible_label': ['Susan Stebbing', 'L. Susan Stebbing']}\n",
      "Teresa of Avila => Teresa of Ávila\n",
      "{'entity': 'Teresa of Ávila', 'gender_listed': 1, 'inclusion': 'main: included', 'refered_name': 'Teresa of Avila', 'wiki_url': 'https://en.wikipedia.org/wiki/Teresa_of_Ávila', 'db_url': 'https://dbpedia.org/page/Teresa_of_Ávila', 'dbpedia_info': {'label': 'Teresa of Ávila', 'wikiPageID': '43583', 'db_influence_record': {'influences': [], 'influencedBy': [], 'isInfluencesOf': [], 'isInfluencedByOf': ['Emil_Cioran', 'Edith_Stein', 'René_Descartes', 'Maria_Teresa_of_St._Joseph']}, 'abstract': 'Teresa of Ávila (born Teresa Sánchez de Cepeda y Ahumada; 28 March 1515 – 4 or 15 October 1582), also called Saint Teresa of Jesus, was a Spanish noblewoman who was called to convent life in the Catholic Church. A Carmelite nun, prominent Spanish mystic, religious reformer, author, theologian of the contemplative life and of mental prayer, she earned the rare distinction of being declared a Doctor of the Church, but not until over four centuries after her death. Active during the Catholic Reformation, she reformed the Carmelite Orders of both women and men. The movement she initiated was later joined by the younger Spanish Carmelite friar and mystic John of the Cross. It led eventually to the establishment of the Discalced Carmelites. A formal papal decree adopting the split from the old order was issued in 1580. Teresa, who had been a social celebrity in her home province, was dogged by early family losses and ill health. In her mature years, she became the central figure of a movement of spiritual and monastic renewal borne out of an inner conviction and honed by ascetic practice. She was also at the center of deep ecclesiastical controversy as she took on the pervasive laxity in her order against the background of the Protestant reformation sweeping over Europe and the Spanish Inquisition asserting church discipline in her home country. The consequences were to last well beyond her life. One papal legate described her as a \"restless wanderer, disobedient, and stubborn femina who, under the title of devotion, invented bad doctrines, moving outside the cloister against the rules of the Council of Trent and her prelates; teaching as a master against Saint Paul\\'s orders that women should not teach.\" Her written contributions, which include her autobiography, The Life of Teresa of Jesus and her seminal work The Interior Castle, are today an integral part of Spanish Renaissance literature. Together with The Way of Perfection, her works form part of the literary canon of Christian mysticism and Christian meditation practice, and continue to attract interest from people both within and outside the Catholic Church. Other associations with Teresa beyond her writings continue to exert a wide influence. A Santero image of the Immaculate Conception of El Viejo, said to have been sent by her with a brother emigrating to Peru, was canonically crowned by Pope John Paul II on 28 December 1989 at the Shrine of El Viejo in Nicaragua. Another Catholic tradition holds that Saint Teresa is personally associated with devotion to the Infant Jesus of Prague, a statue she may have owned. Since her death, her reputation has grown, leading to multiple portrayals. She continues to be widely noted as an inspiration to philosophers, theologians, historians, neurologists, fiction writers and artists, as well as to countless ordinary people interested in Christian spirituality and mysticism. Forty years after her death, in 1622, Teresa was canonized by Pope Gregory XV. At the time she was considered a candidate for national patron saint of Spain, but this designation was awarded to St. James the Apostle. She has since become one of the patron saints of Spain. On 27 September 1970 Pope Paul VI proclaimed Teresa the first female Doctor of the Church in recognition of her centuries-long spiritual legacy to Catholicism. (en)', 'birthYear': '1515-01-01', 'deathYear': '1582-01-01', 'birthPlace': 'Ávila,_Spain,Crown_of_Castile', 'deathPlace': 'Alba_de_Tormes,Salamanca'}, 'listed_info': {'sameAs': '', 'time': '1515–1582'}, 'accessible_label': ['Teresa of Ávila', 'Teresa of Avila']}\n",
      "Mary Warnock => Mary Warnock, Baroness Warnock\n",
      "{'entity': 'Mary Warnock, Baroness Warnock', 'gender_listed': 1, 'inclusion': 'main: included', 'refered_name': 'Mary Warnock', 'wiki_url': 'https://en.wikipedia.org/wiki/Mary_Warnock,_Baroness_Warnock', 'db_url': 'https://dbpedia.org/page/Mary_Warnock,_Baroness_Warnock', 'dbpedia_info': {'label': 'Mary Warnock, Baroness Warnock', 'wikiPageID': '2016044', 'db_influence_record': {'influences': [], 'influencedBy': [], 'isInfluencesOf': [], 'isInfluencedByOf': []}, 'abstract': 'Helen Mary Warnock, Baroness Warnock, CH, DBE, FBA, FMedSci (née Wilson; 14 April 1924 – 20 March 2019) was an English philosopher of morality, education, and mind, and a writer on existentialism. She is best known for chairing an inquiry whose report formed the basis of the Human Fertilisation and Embryology Act 1990. She served as Mistress of Girton College, Cambridge from 1984 to 1991. (en)', 'birthYear': '1924-01-01', 'deathYear': '2019-01-01', 'birthPlace': 'England,Hampshire,Winchester', 'deathPlace': ''}, 'listed_info': {'sameAs': '', 'time': '1924–2019'}, 'accessible_label': ['Mary Warnock, Baroness Warnock', 'Mary Warnock']}\n"
     ]
    }
   ],
   "source": [
    "# we are not sure if all the corrected entities are covered in the dup list (probably all the labels are wrong)\n",
    "# keep the other properties\n",
    "resolved_list = []\n",
    "\n",
    "for item in data:\n",
    "    item[\"accessible_label\"] = [item[\"refered_name\"]]\n",
    "    new_dict = {}\n",
    "\n",
    "    if item[\"entity\"] in ent_correct_dict: # if included in the problematic lists\n",
    "        # Removing dictionary from list of dictionaries\n",
    "        data.remove(item)\n",
    "        if item[\"entity\"] in ent_correct_inv_dict: # delete the nodes if their labels are right\n",
    "\n",
    "            continue\n",
    "        \n",
    "        else: # correct those whose labels are wrong\n",
    "            ent = item[\"entity\"]\n",
    "            item[\"entity\"] = ent_correct_dict[ent] # correct it\n",
    "            print(ent, \"=>\",item[\"entity\"])\n",
    "            item[\"wiki_url\"] = \"https://en.wikipedia.org/wiki/\"+item[\"entity\"].replace(\" \",\"_\")\n",
    "            item[\"db_url\"] = \"https://dbpedia.org/page/\"+item[\"entity\"].replace(\" \",\"_\")\n",
    "\n",
    "            item[\"accessible_label\"] = ent_correct_inv_dict[ item[\"entity\"] ]\n",
    "            # it is also a check of the correctness of the corrected entities\n",
    "            item['dbpedia_info'] = get_db_philosopher( item['entity'])\n",
    "            \n",
    "            print(item)\n",
    "            resolved_list.append(item)\n"
   ]
  },
  {
   "cell_type": "code",
   "execution_count": null,
   "metadata": {},
   "outputs": [],
   "source": [
    "pickle.dump(data, open( \"info_lists/db_philo_info_resolved_list.p\", \"wb\" ) )\n",
    "pickle.dump(resolved_list, open( \"check_lists/label_resolve_list.p\", \"wb\" ) )"
   ]
  }
 ],
 "metadata": {
  "kernelspec": {
   "display_name": "Python 3.8.5 ('base')",
   "language": "python",
   "name": "python3"
  },
  "language_info": {
   "name": "python",
   "version": "3.8.5"
  },
  "orig_nbformat": 4,
  "vscode": {
   "interpreter": {
    "hash": "75d3cd09312a5c5e4ea9ca503f0de7315f2a6856e8eb6e1d90df3dbfd3ff1a46"
   }
  }
 },
 "nbformat": 4,
 "nbformat_minor": 2
}
